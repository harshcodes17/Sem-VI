{
 "cells": [
  {
   "cell_type": "markdown",
   "id": "548c40ed-3470-4327-a9d3-5dcc7e83f45a",
   "metadata": {},
   "source": [
    "# Assignment 2 - Normalization Methods\n",
    "\n",
    "## a. Generate 3 Variables, 10000 Samples Each\n",
    "1. **B (Gaussian Distribution)**: Mean = 5, Standard Deviation = 2  \n",
    "   Use `numpy.random.normal(loc=5, scale=2, size=10000)`  \n",
    "2. **I (Power Law Distribution)**: Use `scipy.stats.powerlaw.rvs(a=0.3, size=10000)`  \n",
    "3. **H (Geometric Distribution)**: Probability = 0.005  \n",
    "   Use `numpy.random.geometric(p=0.005, size=10000)`\n",
    "\n",
    "---\n",
    "\n",
    "## b. Compare Variables in a Single Box Plot\n",
    "- Plot all three variables in a single box plot using libraries such as `matplotlib` or `seaborn`.\n",
    "\n",
    "---\n",
    "\n",
    "## c. Apply Normalization Methods\n",
    "### i. Divide Each Variable by Its Maximum\n",
    "- Normalize each variable by dividing all its values by the maximum value of the respective variable.\n",
    "\n",
    "### ii. Divide Each Variable by the Sum of Its Values\n",
    "- Normalize by dividing all values of a variable by the sum of its values.\n",
    "\n",
    "### iii. Convert Each Variable into Z-Scores\n",
    "- Use the formula:  \n",
    "  \\[\n",
    "  Z = \\frac{X - \\mu}{\\sigma}\n",
    "  \\]  \n",
    "  where \\(\\mu\\) is the mean and \\(\\sigma\\) is the standard deviation of the variable.\n",
    "\n",
    "### iv. Convert Each Variable into Percentiles\n",
    "- Convert values into percentiles using cumulative distribution.\n",
    "\n",
    "### v. Make Medians of All Variables the Same\n",
    "1. Calculate the median of each variable.\n",
    "2. Calculate the mean of these medians (\\(m_1\\)).\n",
    "3. Generate a multiplier for each variable so that its median becomes \\(m_1\\).\n",
    "4. Apply the multiplier to each variable.\n",
    "\n",
    "### vi. Quantile Normalize the Data\n",
    "- Use an off-the-shelf library function, such as `sklearn.preprocessing.quantile_transform`.\n",
    "\n",
    "---\n",
    "\n",
    "## d. Compare Normalization Methods\n",
    "### i. Compare Original Distribution with Normalized Versions\n",
    "- For each normalization method, plot the original variable and its normalized version on the same histogram.\n",
    "\n",
    "### ii. Compare All Normalized Variables in a Single Box Plot\n",
    "- Plot all normalized variables in a single box plot for each normalization method.\n",
    "\n",
    "---"
   ]
  },
  {
   "cell_type": "code",
   "execution_count": 1,
   "id": "a5f53d46-789a-45ee-ae3d-39bafdd065ae",
   "metadata": {},
   "outputs": [],
   "source": [
    "import numpy as np\n",
    "import matplotlib.pyplot as plt\n",
    "import seaborn as sns\n",
    "from scipy import stats\n",
    "import pandas as pd\n"
   ]
  },
  {
   "cell_type": "code",
   "execution_count": 2,
   "id": "ccd03228-9880-4da2-bece-0a530925bfae",
   "metadata": {},
   "outputs": [],
   "source": [
    "np.random.seed(42)"
   ]
  },
  {
   "cell_type": "code",
   "execution_count": 3,
   "id": "e17431ce-8308-4522-897c-f5471b7cf190",
   "metadata": {},
   "outputs": [],
   "source": [
    "sample_no = 1000"
   ]
  },
  {
   "cell_type": "markdown",
   "id": "d72fb51e-6f55-4151-bacc-c05c573edf11",
   "metadata": {},
   "source": [
    "``Gaussian``"
   ]
  },
  {
   "cell_type": "code",
   "execution_count": 4,
   "id": "c459fea9-4603-4eed-b81b-4f83ff7ff328",
   "metadata": {},
   "outputs": [],
   "source": [
    "B = np.random.normal(loc = 5 ,scale = 2,size = sample_no)"
   ]
  },
  {
   "cell_type": "markdown",
   "id": "a9930a5c-da16-43f8-ba0c-c06f9e188aa5",
   "metadata": {},
   "source": [
    "`` Power law ``"
   ]
  },
  {
   "cell_type": "code",
   "execution_count": null,
   "id": "953d1bd3-f9dc-49e1-b108-9798873380ba",
   "metadata": {},
   "outputs": [],
   "source": [
    "I = "
   ]
  }
 ],
 "metadata": {
  "kernelspec": {
   "display_name": "Python 3 (ipykernel)",
   "language": "python",
   "name": "python3"
  },
  "language_info": {
   "codemirror_mode": {
    "name": "ipython",
    "version": 3
   },
   "file_extension": ".py",
   "mimetype": "text/x-python",
   "name": "python",
   "nbconvert_exporter": "python",
   "pygments_lexer": "ipython3",
   "version": "3.12.3"
  }
 },
 "nbformat": 4,
 "nbformat_minor": 5
}
